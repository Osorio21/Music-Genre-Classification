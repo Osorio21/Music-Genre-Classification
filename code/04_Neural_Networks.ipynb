{
 "cells": [
  {
   "cell_type": "markdown",
   "id": "ccb5f42e-72e0-4e77-940f-f93d7c5275bb",
   "metadata": {},
   "source": [
    "# Music Genre Classification\n",
    "## Neural Networks\n",
    "---"
   ]
  },
  {
   "cell_type": "code",
   "execution_count": 18,
   "id": "6720dbe1-c94f-4892-b40c-db569c81aaaa",
   "metadata": {
    "id": "6720dbe1-c94f-4892-b40c-db569c81aaaa"
   },
   "outputs": [],
   "source": [
    "#Imports\n",
    "import tensorflow as tf\n",
    "import numpy as np\n",
    "from sklearn.preprocessing import StandardScaler\n",
    "from sklearn.model_selection import train_test_split\n",
    "import matplotlib.pyplot as plt\n",
    "import pandas as pd\n",
    "from sklearn.preprocessing import LabelEncoder\n",
    "from sklearn.feature_selection import SelectKBest, f_classif\n",
    "from sklearn.model_selection import GridSearchCV\n",
    "from sklearn.pipeline import Pipeline\n",
    "from sklearn.metrics import ConfusionMatrixDisplay, confusion_matrix\n",
    "\n",
    "from tensorflow.keras.regularizers import l2\n",
    "from tensorflow.keras.layers import Dropout, Flatten, Conv2D, MaxPooling2D\n",
    "from tensorflow.keras.callbacks import EarlyStopping\n",
    "from tensorflow.keras.preprocessing import image_dataset_from_directory\n",
    "from tensorflow.keras.models import Sequential\n",
    "from tensorflow.keras.layers import Dense\n",
    "from tensorflow.keras.utils import to_categorical\n",
    "from tensorflow.keras import layers\n",
    "\n",
    "from sklearn.neural_network import MLPClassifier\n"
   ]
  },
  {
   "cell_type": "code",
   "execution_count": 2,
   "id": "YRWOERwp39gJ",
   "metadata": {
    "id": "YRWOERwp39gJ"
   },
   "outputs": [],
   "source": [
    "df = pd.read_csv(\"../data/genre_numerical_data.csv\")"
   ]
  },
  {
   "cell_type": "code",
   "execution_count": 3,
   "id": "02GmRYfA39n0",
   "metadata": {
    "colab": {
     "base_uri": "https://localhost:8080/",
     "height": 300
    },
    "id": "02GmRYfA39n0",
    "outputId": "fb62a68c-1064-4908-ab0e-70dcc8f049ad"
   },
   "outputs": [
    {
     "data": {
      "text/html": [
       "\n",
       "  <div id=\"df-4b95640a-5506-4305-a52b-1f2cf9bc5284\">\n",
       "    <div class=\"colab-df-container\">\n",
       "      <div>\n",
       "<style scoped>\n",
       "    .dataframe tbody tr th:only-of-type {\n",
       "        vertical-align: middle;\n",
       "    }\n",
       "\n",
       "    .dataframe tbody tr th {\n",
       "        vertical-align: top;\n",
       "    }\n",
       "\n",
       "    .dataframe thead th {\n",
       "        text-align: right;\n",
       "    }\n",
       "</style>\n",
       "<table border=\"1\" class=\"dataframe\">\n",
       "  <thead>\n",
       "    <tr style=\"text-align: right;\">\n",
       "      <th></th>\n",
       "      <th>file_name</th>\n",
       "      <th>genre</th>\n",
       "      <th>global_tempo</th>\n",
       "      <th>zero_crossings</th>\n",
       "      <th>avg_zc_rate</th>\n",
       "      <th>std_zc_rate</th>\n",
       "      <th>avg_rms</th>\n",
       "      <th>std_rms</th>\n",
       "      <th>avg_amplitude_envelope</th>\n",
       "      <th>std_amplitude_envelope</th>\n",
       "      <th>...</th>\n",
       "      <th>avg_delta1_mfcc_24</th>\n",
       "      <th>std_delta1_mfcc_24</th>\n",
       "      <th>avg_delta2_mfcc_24</th>\n",
       "      <th>std_delta2_mfcc_24</th>\n",
       "      <th>avg_mfcc_25</th>\n",
       "      <th>std_mfcc_25</th>\n",
       "      <th>avg_delta1_mfcc_25</th>\n",
       "      <th>std_delta1_mfcc_25</th>\n",
       "      <th>avg_delta2_mfcc_25</th>\n",
       "      <th>std_delta2_mfcc_25</th>\n",
       "    </tr>\n",
       "  </thead>\n",
       "  <tbody>\n",
       "    <tr>\n",
       "      <th>0</th>\n",
       "      <td>blues.00000.au</td>\n",
       "      <td>blues</td>\n",
       "      <td>123.0</td>\n",
       "      <td>55031.0</td>\n",
       "      <td>0.083074</td>\n",
       "      <td>0.027707</td>\n",
       "      <td>0.130360</td>\n",
       "      <td>0.053108</td>\n",
       "      <td>0.327602</td>\n",
       "      <td>0.140254</td>\n",
       "      <td>...</td>\n",
       "      <td>0.002245</td>\n",
       "      <td>2.584780</td>\n",
       "      <td>0.000505</td>\n",
       "      <td>1.465260</td>\n",
       "      <td>1.058656</td>\n",
       "      <td>37.768456</td>\n",
       "      <td>0.002283</td>\n",
       "      <td>2.544774</td>\n",
       "      <td>0.000335</td>\n",
       "      <td>1.443447</td>\n",
       "    </tr>\n",
       "    <tr>\n",
       "      <th>1</th>\n",
       "      <td>blues.00001.au</td>\n",
       "      <td>blues</td>\n",
       "      <td>108.0</td>\n",
       "      <td>37139.0</td>\n",
       "      <td>0.056064</td>\n",
       "      <td>0.038064</td>\n",
       "      <td>0.095905</td>\n",
       "      <td>0.048758</td>\n",
       "      <td>0.249066</td>\n",
       "      <td>0.140119</td>\n",
       "      <td>...</td>\n",
       "      <td>0.000356</td>\n",
       "      <td>3.524664</td>\n",
       "      <td>-0.004134</td>\n",
       "      <td>1.878435</td>\n",
       "      <td>-0.416541</td>\n",
       "      <td>53.829720</td>\n",
       "      <td>0.000848</td>\n",
       "      <td>3.463843</td>\n",
       "      <td>-0.004067</td>\n",
       "      <td>1.846598</td>\n",
       "    </tr>\n",
       "    <tr>\n",
       "      <th>2</th>\n",
       "      <td>blues.00002.au</td>\n",
       "      <td>blues</td>\n",
       "      <td>161.0</td>\n",
       "      <td>50563.0</td>\n",
       "      <td>0.076285</td>\n",
       "      <td>0.031682</td>\n",
       "      <td>0.175599</td>\n",
       "      <td>0.052479</td>\n",
       "      <td>0.444890</td>\n",
       "      <td>0.151819</td>\n",
       "      <td>...</td>\n",
       "      <td>-0.000813</td>\n",
       "      <td>3.028513</td>\n",
       "      <td>-0.000726</td>\n",
       "      <td>1.852521</td>\n",
       "      <td>0.139876</td>\n",
       "      <td>38.718422</td>\n",
       "      <td>-0.000571</td>\n",
       "      <td>2.981193</td>\n",
       "      <td>-0.000570</td>\n",
       "      <td>1.822811</td>\n",
       "    </tr>\n",
       "    <tr>\n",
       "      <th>3</th>\n",
       "      <td>blues.00003.au</td>\n",
       "      <td>blues</td>\n",
       "      <td>172.0</td>\n",
       "      <td>22077.0</td>\n",
       "      <td>0.033284</td>\n",
       "      <td>0.020516</td>\n",
       "      <td>0.141266</td>\n",
       "      <td>0.079632</td>\n",
       "      <td>0.306623</td>\n",
       "      <td>0.171395</td>\n",
       "      <td>...</td>\n",
       "      <td>-0.009183</td>\n",
       "      <td>3.269627</td>\n",
       "      <td>-0.000356</td>\n",
       "      <td>1.684101</td>\n",
       "      <td>-0.426795</td>\n",
       "      <td>53.465385</td>\n",
       "      <td>-0.008726</td>\n",
       "      <td>3.207656</td>\n",
       "      <td>-0.000323</td>\n",
       "      <td>1.652975</td>\n",
       "    </tr>\n",
       "    <tr>\n",
       "      <th>4</th>\n",
       "      <td>blues.00004.au</td>\n",
       "      <td>blues</td>\n",
       "      <td>136.0</td>\n",
       "      <td>67225.0</td>\n",
       "      <td>0.101487</td>\n",
       "      <td>0.044194</td>\n",
       "      <td>0.091617</td>\n",
       "      <td>0.048034</td>\n",
       "      <td>0.282141</td>\n",
       "      <td>0.167069</td>\n",
       "      <td>...</td>\n",
       "      <td>0.006547</td>\n",
       "      <td>3.204171</td>\n",
       "      <td>-0.001320</td>\n",
       "      <td>1.799860</td>\n",
       "      <td>-6.859077</td>\n",
       "      <td>46.151836</td>\n",
       "      <td>0.006658</td>\n",
       "      <td>3.149045</td>\n",
       "      <td>-0.001131</td>\n",
       "      <td>1.769600</td>\n",
       "    </tr>\n",
       "  </tbody>\n",
       "</table>\n",
       "<p>5 rows × 186 columns</p>\n",
       "</div>\n",
       "      <button class=\"colab-df-convert\" onclick=\"convertToInteractive('df-4b95640a-5506-4305-a52b-1f2cf9bc5284')\"\n",
       "              title=\"Convert this dataframe to an interactive table.\"\n",
       "              style=\"display:none;\">\n",
       "        \n",
       "  <svg xmlns=\"http://www.w3.org/2000/svg\" height=\"24px\"viewBox=\"0 0 24 24\"\n",
       "       width=\"24px\">\n",
       "    <path d=\"M0 0h24v24H0V0z\" fill=\"none\"/>\n",
       "    <path d=\"M18.56 5.44l.94 2.06.94-2.06 2.06-.94-2.06-.94-.94-2.06-.94 2.06-2.06.94zm-11 1L8.5 8.5l.94-2.06 2.06-.94-2.06-.94L8.5 2.5l-.94 2.06-2.06.94zm10 10l.94 2.06.94-2.06 2.06-.94-2.06-.94-.94-2.06-.94 2.06-2.06.94z\"/><path d=\"M17.41 7.96l-1.37-1.37c-.4-.4-.92-.59-1.43-.59-.52 0-1.04.2-1.43.59L10.3 9.45l-7.72 7.72c-.78.78-.78 2.05 0 2.83L4 21.41c.39.39.9.59 1.41.59.51 0 1.02-.2 1.41-.59l7.78-7.78 2.81-2.81c.8-.78.8-2.07 0-2.86zM5.41 20L4 18.59l7.72-7.72 1.47 1.35L5.41 20z\"/>\n",
       "  </svg>\n",
       "      </button>\n",
       "      \n",
       "  <style>\n",
       "    .colab-df-container {\n",
       "      display:flex;\n",
       "      flex-wrap:wrap;\n",
       "      gap: 12px;\n",
       "    }\n",
       "\n",
       "    .colab-df-convert {\n",
       "      background-color: #E8F0FE;\n",
       "      border: none;\n",
       "      border-radius: 50%;\n",
       "      cursor: pointer;\n",
       "      display: none;\n",
       "      fill: #1967D2;\n",
       "      height: 32px;\n",
       "      padding: 0 0 0 0;\n",
       "      width: 32px;\n",
       "    }\n",
       "\n",
       "    .colab-df-convert:hover {\n",
       "      background-color: #E2EBFA;\n",
       "      box-shadow: 0px 1px 2px rgba(60, 64, 67, 0.3), 0px 1px 3px 1px rgba(60, 64, 67, 0.15);\n",
       "      fill: #174EA6;\n",
       "    }\n",
       "\n",
       "    [theme=dark] .colab-df-convert {\n",
       "      background-color: #3B4455;\n",
       "      fill: #D2E3FC;\n",
       "    }\n",
       "\n",
       "    [theme=dark] .colab-df-convert:hover {\n",
       "      background-color: #434B5C;\n",
       "      box-shadow: 0px 1px 3px 1px rgba(0, 0, 0, 0.15);\n",
       "      filter: drop-shadow(0px 1px 2px rgba(0, 0, 0, 0.3));\n",
       "      fill: #FFFFFF;\n",
       "    }\n",
       "  </style>\n",
       "\n",
       "      <script>\n",
       "        const buttonEl =\n",
       "          document.querySelector('#df-4b95640a-5506-4305-a52b-1f2cf9bc5284 button.colab-df-convert');\n",
       "        buttonEl.style.display =\n",
       "          google.colab.kernel.accessAllowed ? 'block' : 'none';\n",
       "\n",
       "        async function convertToInteractive(key) {\n",
       "          const element = document.querySelector('#df-4b95640a-5506-4305-a52b-1f2cf9bc5284');\n",
       "          const dataTable =\n",
       "            await google.colab.kernel.invokeFunction('convertToInteractive',\n",
       "                                                     [key], {});\n",
       "          if (!dataTable) return;\n",
       "\n",
       "          const docLinkHtml = 'Like what you see? Visit the ' +\n",
       "            '<a target=\"_blank\" href=https://colab.research.google.com/notebooks/data_table.ipynb>data table notebook</a>'\n",
       "            + ' to learn more about interactive tables.';\n",
       "          element.innerHTML = '';\n",
       "          dataTable['output_type'] = 'display_data';\n",
       "          await google.colab.output.renderOutput(dataTable, element);\n",
       "          const docLink = document.createElement('div');\n",
       "          docLink.innerHTML = docLinkHtml;\n",
       "          element.appendChild(docLink);\n",
       "        }\n",
       "      </script>\n",
       "    </div>\n",
       "  </div>\n",
       "  "
      ],
      "text/plain": [
       "        file_name  genre  global_tempo  zero_crossings  avg_zc_rate  \\\n",
       "0  blues.00000.au  blues         123.0         55031.0     0.083074   \n",
       "1  blues.00001.au  blues         108.0         37139.0     0.056064   \n",
       "2  blues.00002.au  blues         161.0         50563.0     0.076285   \n",
       "3  blues.00003.au  blues         172.0         22077.0     0.033284   \n",
       "4  blues.00004.au  blues         136.0         67225.0     0.101487   \n",
       "\n",
       "   std_zc_rate   avg_rms   std_rms  avg_amplitude_envelope  \\\n",
       "0     0.027707  0.130360  0.053108                0.327602   \n",
       "1     0.038064  0.095905  0.048758                0.249066   \n",
       "2     0.031682  0.175599  0.052479                0.444890   \n",
       "3     0.020516  0.141266  0.079632                0.306623   \n",
       "4     0.044194  0.091617  0.048034                0.282141   \n",
       "\n",
       "   std_amplitude_envelope  ...  avg_delta1_mfcc_24  std_delta1_mfcc_24  \\\n",
       "0                0.140254  ...            0.002245            2.584780   \n",
       "1                0.140119  ...            0.000356            3.524664   \n",
       "2                0.151819  ...           -0.000813            3.028513   \n",
       "3                0.171395  ...           -0.009183            3.269627   \n",
       "4                0.167069  ...            0.006547            3.204171   \n",
       "\n",
       "   avg_delta2_mfcc_24  std_delta2_mfcc_24  avg_mfcc_25  std_mfcc_25  \\\n",
       "0            0.000505            1.465260     1.058656    37.768456   \n",
       "1           -0.004134            1.878435    -0.416541    53.829720   \n",
       "2           -0.000726            1.852521     0.139876    38.718422   \n",
       "3           -0.000356            1.684101    -0.426795    53.465385   \n",
       "4           -0.001320            1.799860    -6.859077    46.151836   \n",
       "\n",
       "   avg_delta1_mfcc_25  std_delta1_mfcc_25  avg_delta2_mfcc_25  \\\n",
       "0            0.002283            2.544774            0.000335   \n",
       "1            0.000848            3.463843           -0.004067   \n",
       "2           -0.000571            2.981193           -0.000570   \n",
       "3           -0.008726            3.207656           -0.000323   \n",
       "4            0.006658            3.149045           -0.001131   \n",
       "\n",
       "   std_delta2_mfcc_25  \n",
       "0            1.443447  \n",
       "1            1.846598  \n",
       "2            1.822811  \n",
       "3            1.652975  \n",
       "4            1.769600  \n",
       "\n",
       "[5 rows x 186 columns]"
      ]
     },
     "execution_count": 3,
     "metadata": {},
     "output_type": "execute_result"
    }
   ],
   "source": [
    "df.head()"
   ]
  },
  {
   "cell_type": "code",
   "execution_count": 40,
   "id": "AEqnUs3139qI",
   "metadata": {
    "id": "AEqnUs3139qI"
   },
   "outputs": [],
   "source": [
    "#divide data into training and testing sets\n",
    "y = df['genre']\n",
    "l = LabelEncoder()\n",
    "y = l.fit_transform(y)\n",
    "y = pd.Series(y)\n",
    "X = df.drop(columns = ['file_name', 'genre'])\n",
    "\n",
    "X_train, X_test, y_train, y_test = train_test_split(X,y, random_state=42, stratify = y)\n",
    "\n",
    "sc = StandardScaler()\n",
    "Z_train = sc.fit_transform(X_train)\n",
    "Z_test = sc.transform(X_test)\n",
    "Z_train = pd.DataFrame(Z_train, columns = sc.get_feature_names_out())\n",
    "Z_test = pd.DataFrame(Z_test, columns = sc.get_feature_names_out())"
   ]
  },
  {
   "cell_type": "markdown",
   "id": "pmhgUGUUJQ4w",
   "metadata": {
    "id": "pmhgUGUUJQ4w"
   },
   "source": [
    "### Helper Function"
   ]
  },
  {
   "cell_type": "code",
   "execution_count": 52,
   "id": "7iib6_cuJP-G",
   "metadata": {
    "id": "7iib6_cuJP-G"
   },
   "outputs": [],
   "source": [
    "#provide metrics and confusion matrix\n",
    "def model_metrics(model):\n",
    "    print(f'Training Accuracy is: {np.round(model.score(Z_train,y_train),2)}')\n",
    "    print(f'Testing Accuracy is: {np.round(model.score(Z_test,y_test),2)}')\n",
    "    print()\n",
    "    cm = ConfusionMatrixDisplay.from_estimator(model, Z_test, y_test,display_labels = [\"blues\",\"classical\",\"country\",\n",
    "                                                                                      \"disco\",\"hiphop\",\"jazz\",\n",
    "                                                                                      \"metal\",\"pop\",\"reggae\",\n",
    "                                                                                      \"rock\"])\n",
    "    plt.xticks(rotation = 90)\n"
   ]
  },
  {
   "cell_type": "markdown",
   "id": "aS6Memkw2G8a",
   "metadata": {
    "id": "aS6Memkw2G8a"
   },
   "source": [
    "## Neural Network - MLP"
   ]
  },
  {
   "cell_type": "code",
   "execution_count": 55,
   "id": "1N2sQE692HR_",
   "metadata": {
    "colab": {
     "base_uri": "https://localhost:8080/",
     "height": 208
    },
    "id": "1N2sQE692HR_",
    "outputId": "7cd8847c-7e20-40ec-bd4f-bfa1697be2de"
   },
   "outputs": [
    {
     "name": "stderr",
     "output_type": "stream",
     "text": [
      "/usr/local/lib/python3.10/dist-packages/sklearn/neural_network/_multilayer_perceptron.py:686: ConvergenceWarning: Stochastic Optimizer: Maximum iterations (500) reached and the optimization hasn't converged yet.\n",
      "  warnings.warn(\n"
     ]
    },
    {
     "data": {
      "text/html": [
       "<style>#sk-container-id-2 {color: black;background-color: white;}#sk-container-id-2 pre{padding: 0;}#sk-container-id-2 div.sk-toggleable {background-color: white;}#sk-container-id-2 label.sk-toggleable__label {cursor: pointer;display: block;width: 100%;margin-bottom: 0;padding: 0.3em;box-sizing: border-box;text-align: center;}#sk-container-id-2 label.sk-toggleable__label-arrow:before {content: \"▸\";float: left;margin-right: 0.25em;color: #696969;}#sk-container-id-2 label.sk-toggleable__label-arrow:hover:before {color: black;}#sk-container-id-2 div.sk-estimator:hover label.sk-toggleable__label-arrow:before {color: black;}#sk-container-id-2 div.sk-toggleable__content {max-height: 0;max-width: 0;overflow: hidden;text-align: left;background-color: #f0f8ff;}#sk-container-id-2 div.sk-toggleable__content pre {margin: 0.2em;color: black;border-radius: 0.25em;background-color: #f0f8ff;}#sk-container-id-2 input.sk-toggleable__control:checked~div.sk-toggleable__content {max-height: 200px;max-width: 100%;overflow: auto;}#sk-container-id-2 input.sk-toggleable__control:checked~label.sk-toggleable__label-arrow:before {content: \"▾\";}#sk-container-id-2 div.sk-estimator input.sk-toggleable__control:checked~label.sk-toggleable__label {background-color: #d4ebff;}#sk-container-id-2 div.sk-label input.sk-toggleable__control:checked~label.sk-toggleable__label {background-color: #d4ebff;}#sk-container-id-2 input.sk-hidden--visually {border: 0;clip: rect(1px 1px 1px 1px);clip: rect(1px, 1px, 1px, 1px);height: 1px;margin: -1px;overflow: hidden;padding: 0;position: absolute;width: 1px;}#sk-container-id-2 div.sk-estimator {font-family: monospace;background-color: #f0f8ff;border: 1px dotted black;border-radius: 0.25em;box-sizing: border-box;margin-bottom: 0.5em;}#sk-container-id-2 div.sk-estimator:hover {background-color: #d4ebff;}#sk-container-id-2 div.sk-parallel-item::after {content: \"\";width: 100%;border-bottom: 1px solid gray;flex-grow: 1;}#sk-container-id-2 div.sk-label:hover label.sk-toggleable__label {background-color: #d4ebff;}#sk-container-id-2 div.sk-serial::before {content: \"\";position: absolute;border-left: 1px solid gray;box-sizing: border-box;top: 0;bottom: 0;left: 50%;z-index: 0;}#sk-container-id-2 div.sk-serial {display: flex;flex-direction: column;align-items: center;background-color: white;padding-right: 0.2em;padding-left: 0.2em;position: relative;}#sk-container-id-2 div.sk-item {position: relative;z-index: 1;}#sk-container-id-2 div.sk-parallel {display: flex;align-items: stretch;justify-content: center;background-color: white;position: relative;}#sk-container-id-2 div.sk-item::before, #sk-container-id-2 div.sk-parallel-item::before {content: \"\";position: absolute;border-left: 1px solid gray;box-sizing: border-box;top: 0;bottom: 0;left: 50%;z-index: -1;}#sk-container-id-2 div.sk-parallel-item {display: flex;flex-direction: column;z-index: 1;position: relative;background-color: white;}#sk-container-id-2 div.sk-parallel-item:first-child::after {align-self: flex-end;width: 50%;}#sk-container-id-2 div.sk-parallel-item:last-child::after {align-self: flex-start;width: 50%;}#sk-container-id-2 div.sk-parallel-item:only-child::after {width: 0;}#sk-container-id-2 div.sk-dashed-wrapped {border: 1px dashed gray;margin: 0 0.4em 0.5em 0.4em;box-sizing: border-box;padding-bottom: 0.4em;background-color: white;}#sk-container-id-2 div.sk-label label {font-family: monospace;font-weight: bold;display: inline-block;line-height: 1.2em;}#sk-container-id-2 div.sk-label-container {text-align: center;}#sk-container-id-2 div.sk-container {/* jupyter's `normalize.less` sets `[hidden] { display: none; }` but bootstrap.min.css set `[hidden] { display: none !important; }` so we also need the `!important` here to be able to override the default hidden behavior on the sphinx rendered scikit-learn.org. See: https://github.com/scikit-learn/scikit-learn/issues/21755 */display: inline-block !important;position: relative;}#sk-container-id-2 div.sk-text-repr-fallback {display: none;}</style><div id=\"sk-container-id-2\" class=\"sk-top-container\"><div class=\"sk-text-repr-fallback\"><pre>GridSearchCV(estimator=Pipeline(steps=[(&#x27;kbest&#x27;, SelectKBest()),\n",
       "                                       (&#x27;mlp&#x27;,\n",
       "                                        MLPClassifier(random_state=42))]),\n",
       "             n_jobs=-1,\n",
       "             param_grid={&#x27;kbest__k&#x27;: [140, 145, 150, 155, 160, 165],\n",
       "                         &#x27;mlp__activation&#x27;: [&#x27;logistic&#x27;, &#x27;relu&#x27;],\n",
       "                         &#x27;mlp__alpha&#x27;: [0, 0.0001, 0.0005, 0.001, 0.005],\n",
       "                         &#x27;mlp__hidden_layer_sizes&#x27;: [100, (100, 100),\n",
       "                                                     (100, 100, 100)],\n",
       "                         &#x27;mlp__max_iter&#x27;: [100, 200, 300, 400, 500]})</pre><b>In a Jupyter environment, please rerun this cell to show the HTML representation or trust the notebook. <br />On GitHub, the HTML representation is unable to render, please try loading this page with nbviewer.org.</b></div><div class=\"sk-container\" hidden><div class=\"sk-item sk-dashed-wrapped\"><div class=\"sk-label-container\"><div class=\"sk-label sk-toggleable\"><input class=\"sk-toggleable__control sk-hidden--visually\" id=\"sk-estimator-id-5\" type=\"checkbox\" ><label for=\"sk-estimator-id-5\" class=\"sk-toggleable__label sk-toggleable__label-arrow\">GridSearchCV</label><div class=\"sk-toggleable__content\"><pre>GridSearchCV(estimator=Pipeline(steps=[(&#x27;kbest&#x27;, SelectKBest()),\n",
       "                                       (&#x27;mlp&#x27;,\n",
       "                                        MLPClassifier(random_state=42))]),\n",
       "             n_jobs=-1,\n",
       "             param_grid={&#x27;kbest__k&#x27;: [140, 145, 150, 155, 160, 165],\n",
       "                         &#x27;mlp__activation&#x27;: [&#x27;logistic&#x27;, &#x27;relu&#x27;],\n",
       "                         &#x27;mlp__alpha&#x27;: [0, 0.0001, 0.0005, 0.001, 0.005],\n",
       "                         &#x27;mlp__hidden_layer_sizes&#x27;: [100, (100, 100),\n",
       "                                                     (100, 100, 100)],\n",
       "                         &#x27;mlp__max_iter&#x27;: [100, 200, 300, 400, 500]})</pre></div></div></div><div class=\"sk-parallel\"><div class=\"sk-parallel-item\"><div class=\"sk-item\"><div class=\"sk-label-container\"><div class=\"sk-label sk-toggleable\"><input class=\"sk-toggleable__control sk-hidden--visually\" id=\"sk-estimator-id-6\" type=\"checkbox\" ><label for=\"sk-estimator-id-6\" class=\"sk-toggleable__label sk-toggleable__label-arrow\">estimator: Pipeline</label><div class=\"sk-toggleable__content\"><pre>Pipeline(steps=[(&#x27;kbest&#x27;, SelectKBest()),\n",
       "                (&#x27;mlp&#x27;, MLPClassifier(random_state=42))])</pre></div></div></div><div class=\"sk-serial\"><div class=\"sk-item\"><div class=\"sk-serial\"><div class=\"sk-item\"><div class=\"sk-estimator sk-toggleable\"><input class=\"sk-toggleable__control sk-hidden--visually\" id=\"sk-estimator-id-7\" type=\"checkbox\" ><label for=\"sk-estimator-id-7\" class=\"sk-toggleable__label sk-toggleable__label-arrow\">SelectKBest</label><div class=\"sk-toggleable__content\"><pre>SelectKBest()</pre></div></div></div><div class=\"sk-item\"><div class=\"sk-estimator sk-toggleable\"><input class=\"sk-toggleable__control sk-hidden--visually\" id=\"sk-estimator-id-8\" type=\"checkbox\" ><label for=\"sk-estimator-id-8\" class=\"sk-toggleable__label sk-toggleable__label-arrow\">MLPClassifier</label><div class=\"sk-toggleable__content\"><pre>MLPClassifier(random_state=42)</pre></div></div></div></div></div></div></div></div></div></div></div></div>"
      ],
      "text/plain": [
       "GridSearchCV(estimator=Pipeline(steps=[('kbest', SelectKBest()),\n",
       "                                       ('mlp',\n",
       "                                        MLPClassifier(random_state=42))]),\n",
       "             n_jobs=-1,\n",
       "             param_grid={'kbest__k': [140, 145, 150, 155, 160, 165],\n",
       "                         'mlp__activation': ['logistic', 'relu'],\n",
       "                         'mlp__alpha': [0, 0.0001, 0.0005, 0.001, 0.005],\n",
       "                         'mlp__hidden_layer_sizes': [100, (100, 100),\n",
       "                                                     (100, 100, 100)],\n",
       "                         'mlp__max_iter': [100, 200, 300, 400, 500]})"
      ]
     },
     "execution_count": 55,
     "metadata": {},
     "output_type": "execute_result"
    }
   ],
   "source": [
    "pipe_mlp = Pipeline([\n",
    "    ('kbest', SelectKBest()),\n",
    "    ('mlp', MLPClassifier(random_state=42))\n",
    "])\n",
    "\n",
    "mlp_params = {\n",
    "    'kbest__k' : [140,145,150,155,160,165],\n",
    "    'mlp__max_iter' : [100,200,300,400,500],\n",
    "    'mlp__alpha' : [0, 0.0001, 0.0005, 0.001, 0.005],\n",
    "    'mlp__hidden_layer_sizes' : [(100), (100,100), (100,100,100)],\n",
    "    'mlp__activation' : ['logistic', 'relu']\n",
    "}\n",
    "\n",
    "gs_mlp = GridSearchCV(pipe_mlp, mlp_params, n_jobs= -1)\n",
    "\n",
    "gs_mlp.fit(Z_train,y_train)"
   ]
  },
  {
   "cell_type": "code",
   "execution_count": 56,
   "id": "bQJHSDcC2HYw",
   "metadata": {
    "colab": {
     "base_uri": "https://localhost:8080/"
    },
    "id": "bQJHSDcC2HYw",
    "outputId": "bf2fe8d8-63b4-47ac-88a3-af5faa23814e"
   },
   "outputs": [
    {
     "data": {
      "text/plain": [
       "{'kbest__k': 155,\n",
       " 'mlp__activation': 'logistic',\n",
       " 'mlp__alpha': 0,\n",
       " 'mlp__hidden_layer_sizes': (100, 100),\n",
       " 'mlp__max_iter': 500}"
      ]
     },
     "execution_count": 56,
     "metadata": {},
     "output_type": "execute_result"
    }
   ],
   "source": [
    "gs_mlp.best_params_"
   ]
  },
  {
   "cell_type": "code",
   "execution_count": 57,
   "id": "18Wp7W06JDdn",
   "metadata": {
    "colab": {
     "base_uri": "https://localhost:8080/",
     "height": 548
    },
    "id": "18Wp7W06JDdn",
    "outputId": "29fc2b17-f91d-4da0-8bca-a5b36db5f27c"
   },
   "outputs": [
    {
     "name": "stdout",
     "output_type": "stream",
     "text": [
      "Training Accuracy is: 1.0\n",
      "Testing Accuracy is: 0.77\n",
      "\n"
     ]
    },
    {
     "data": {
      "image/png": "[encoded data removed]",
      "text/plain": [
       "<Figure size 640x480 with 2 Axes>"
      ]
     },
     "metadata": {},
     "output_type": "display_data"
    }
   ],
   "source": [
    "model_metrics(gs_mlp)"
   ]
  },
  {
   "cell_type": "markdown",
   "id": "QfLoO59K2-C4",
   "metadata": {
    "id": "QfLoO59K2-C4"
   },
   "source": [
    "Model shows similar performance to non-neural network models. Classical music is most accurately classified and Rock is the worst. As usual, Country and Pop are the problem areas for Rock classification. This model's results also highlight the difficulty in differentiating between Jazz and Classical music. Like all of the previous models, this one is overfit as well."
   ]
  },
  {
   "cell_type": "markdown",
   "id": "Z60O6cfTBQMu",
   "metadata": {
    "id": "Z60O6cfTBQMu"
   },
   "source": [
    "## Neural Network - Keras"
   ]
  },
  {
   "cell_type": "code",
   "execution_count": 4,
   "id": "DE_KEdbmBTcR",
   "metadata": {
    "id": "DE_KEdbmBTcR"
   },
   "outputs": [],
   "source": [
    "#divide into training and testing sets\n",
    "y = df['genre']\n",
    "l = LabelEncoder()\n",
    "y = l.fit_transform(y)\n",
    "y = to_categorical(y)\n",
    "X = df.drop(columns = ['file_name', 'genre'])\n",
    "\n",
    "X_train, X_test, y_train, y_test = train_test_split(X,y, random_state=42, stratify = y)\n",
    "\n",
    "sc = StandardScaler()\n",
    "Z_train = sc.fit_transform(X_train)\n",
    "Z_test = sc.transform(X_test)"
   ]
  },
  {
   "cell_type": "code",
   "execution_count": 5,
   "id": "eEbMHzZU39u4",
   "metadata": {
    "id": "eEbMHzZU39u4"
   },
   "outputs": [],
   "source": [
    "#set model layers\n",
    "model = Sequential()\n",
    "\n",
    "model.add(Dense(128,\n",
    "                activation = 'relu',\n",
    "                input_shape = (184,), kernel_regularizer=l2(0.02)))\n",
    "model.add(Dense(128, activation = 'relu', kernel_regularizer=l2(0.01)))\n",
    "model.add(Dense(128, activation = 'relu', kernel_regularizer=l2(0.01)))\n",
    "model.add(Dense(128, activation = 'relu', kernel_regularizer=l2(0.01)))\n",
    "\n",
    "model.add(Dense(10, activation = 'softmax')) \n",
    "\n",
    "model.compile(optimizer = 'adam',\n",
    "              loss = 'categorical_crossentropy',\n",
    "              metrics = ['accuracy'])"
   ]
  },
  {
   "cell_type": "code",
   "execution_count": 6,
   "id": "XLb3cWvY39xa",
   "metadata": {
    "colab": {
     "base_uri": "https://localhost:8080/"
    },
    "id": "XLb3cWvY39xa",
    "outputId": "e26d57b3-d384-4e25-cbd5-133ef309cbaf",
    "scrolled": true,
    "tags": []
   },
   "outputs": [
    {
     "name": "stdout",
     "output_type": "stream",
     "text": [
      "Epoch 1/100\n",
      "24/24 [==============================] - 6s 14ms/step - loss: 8.0746 - accuracy: 0.2987 - val_loss: 6.9304 - val_accuracy: 0.3880\n",
      "Epoch 2/100\n",
      "24/24 [==============================] - 0s 5ms/step - loss: 6.3074 - accuracy: 0.4360 - val_loss: 5.5475 - val_accuracy: 0.4640\n",
      "Epoch 3/100\n",
      "24/24 [==============================] - 0s 5ms/step - loss: 5.0851 - accuracy: 0.5080 - val_loss: 4.5934 - val_accuracy: 0.5000\n",
      "Epoch 4/100\n",
      "24/24 [==============================] - 0s 5ms/step - loss: 4.2704 - accuracy: 0.5173 - val_loss: 3.9312 - val_accuracy: 0.5280\n",
      "Epoch 5/100\n",
      "24/24 [==============================] - 0s 5ms/step - loss: 3.6430 - accuracy: 0.5747 - val_loss: 3.3953 - val_accuracy: 0.5400\n",
      "Epoch 6/100\n",
      "24/24 [==============================] - 0s 5ms/step - loss: 3.1459 - accuracy: 0.6253 - val_loss: 3.0595 - val_accuracy: 0.6040\n",
      "Epoch 7/100\n",
      "24/24 [==============================] - 0s 5ms/step - loss: 2.8619 - accuracy: 0.6320 - val_loss: 2.7376 - val_accuracy: 0.6560\n",
      "Epoch 8/100\n",
      "24/24 [==============================] - 0s 5ms/step - loss: 2.5580 - accuracy: 0.6653 - val_loss: 2.5226 - val_accuracy: 0.6200\n",
      "Epoch 9/100\n",
      "24/24 [==============================] - 0s 5ms/step - loss: 2.3342 - accuracy: 0.6867 - val_loss: 2.3578 - val_accuracy: 0.6280\n",
      "Epoch 10/100\n",
      "24/24 [==============================] - 0s 5ms/step - loss: 2.1972 - accuracy: 0.6960 - val_loss: 2.2580 - val_accuracy: 0.6600\n",
      "Epoch 11/100\n",
      "24/24 [==============================] - 0s 5ms/step - loss: 2.0515 - accuracy: 0.6973 - val_loss: 2.1353 - val_accuracy: 0.6520\n",
      "Epoch 12/100\n",
      "24/24 [==============================] - 0s 6ms/step - loss: 1.9742 - accuracy: 0.7000 - val_loss: 2.0268 - val_accuracy: 0.6560\n",
      "Epoch 13/100\n",
      "24/24 [==============================] - 0s 5ms/step - loss: 1.8803 - accuracy: 0.7160 - val_loss: 1.9714 - val_accuracy: 0.6920\n",
      "Epoch 14/100\n",
      "24/24 [==============================] - 0s 6ms/step - loss: 1.7311 - accuracy: 0.7480 - val_loss: 1.8841 - val_accuracy: 0.6800\n",
      "Epoch 15/100\n",
      "24/24 [==============================] - 0s 5ms/step - loss: 1.6717 - accuracy: 0.7587 - val_loss: 1.8839 - val_accuracy: 0.6520\n",
      "Epoch 16/100\n",
      "24/24 [==============================] - 0s 5ms/step - loss: 1.6364 - accuracy: 0.7413 - val_loss: 1.8930 - val_accuracy: 0.6400\n",
      "Epoch 17/100\n",
      "24/24 [==============================] - 0s 5ms/step - loss: 1.5440 - accuracy: 0.7760 - val_loss: 1.7307 - val_accuracy: 0.6680\n",
      "Epoch 18/100\n",
      "24/24 [==============================] - 0s 5ms/step - loss: 1.5001 - accuracy: 0.7707 - val_loss: 1.6623 - val_accuracy: 0.6920\n",
      "Epoch 19/100\n",
      "24/24 [==============================] - 0s 6ms/step - loss: 1.4815 - accuracy: 0.7613 - val_loss: 1.6702 - val_accuracy: 0.6600\n",
      "Epoch 20/100\n",
      "24/24 [==============================] - 0s 5ms/step - loss: 1.4477 - accuracy: 0.7667 - val_loss: 1.7409 - val_accuracy: 0.6600\n",
      "Epoch 21/100\n",
      "24/24 [==============================] - 0s 5ms/step - loss: 1.4045 - accuracy: 0.7733 - val_loss: 1.6423 - val_accuracy: 0.6640\n",
      "Epoch 22/100\n",
      "24/24 [==============================] - 0s 5ms/step - loss: 1.3544 - accuracy: 0.7800 - val_loss: 1.7144 - val_accuracy: 0.6680\n",
      "Epoch 23/100\n",
      "24/24 [==============================] - 0s 5ms/step - loss: 1.4028 - accuracy: 0.7373 - val_loss: 1.5796 - val_accuracy: 0.6920\n",
      "Epoch 24/100\n",
      "24/24 [==============================] - 0s 5ms/step - loss: 1.3309 - accuracy: 0.7813 - val_loss: 1.5681 - val_accuracy: 0.6720\n",
      "Epoch 25/100\n",
      "24/24 [==============================] - 0s 5ms/step - loss: 1.2741 - accuracy: 0.8067 - val_loss: 1.5639 - val_accuracy: 0.6960\n",
      "Epoch 26/100\n",
      "24/24 [==============================] - 0s 5ms/step - loss: 1.2490 - accuracy: 0.8187 - val_loss: 1.5481 - val_accuracy: 0.6880\n",
      "Epoch 27/100\n",
      "24/24 [==============================] - 0s 6ms/step - loss: 1.2356 - accuracy: 0.8027 - val_loss: 1.5032 - val_accuracy: 0.6960\n",
      "Epoch 28/100\n",
      "24/24 [==============================] - 0s 6ms/step - loss: 1.1942 - accuracy: 0.8307 - val_loss: 1.6498 - val_accuracy: 0.6680\n",
      "Epoch 29/100\n",
      "24/24 [==============================] - 0s 5ms/step - loss: 1.1942 - accuracy: 0.8187 - val_loss: 1.5371 - val_accuracy: 0.6960\n",
      "Epoch 30/100\n",
      "24/24 [==============================] - 0s 5ms/step - loss: 1.1670 - accuracy: 0.8320 - val_loss: 1.4891 - val_accuracy: 0.7240\n",
      "Epoch 31/100\n",
      "24/24 [==============================] - 0s 5ms/step - loss: 1.1457 - accuracy: 0.8387 - val_loss: 1.5171 - val_accuracy: 0.6840\n",
      "Epoch 32/100\n",
      "24/24 [==============================] - 0s 5ms/step - loss: 1.1627 - accuracy: 0.8200 - val_loss: 1.5796 - val_accuracy: 0.7040\n",
      "Epoch 33/100\n",
      "24/24 [==============================] - 0s 5ms/step - loss: 1.1091 - accuracy: 0.8533 - val_loss: 1.4652 - val_accuracy: 0.6920\n",
      "Epoch 34/100\n",
      "24/24 [==============================] - 0s 8ms/step - loss: 1.1352 - accuracy: 0.8427 - val_loss: 1.6661 - val_accuracy: 0.6240\n",
      "Epoch 35/100\n",
      "24/24 [==============================] - 0s 8ms/step - loss: 1.1350 - accuracy: 0.8267 - val_loss: 1.5857 - val_accuracy: 0.6520\n",
      "Epoch 36/100\n",
      "24/24 [==============================] - 0s 9ms/step - loss: 1.1290 - accuracy: 0.8293 - val_loss: 1.4950 - val_accuracy: 0.6480\n",
      "Epoch 37/100\n",
      "24/24 [==============================] - 0s 9ms/step - loss: 1.1740 - accuracy: 0.8107 - val_loss: 1.5027 - val_accuracy: 0.6880\n",
      "Epoch 38/100\n",
      "24/24 [==============================] - 0s 9ms/step - loss: 1.1251 - accuracy: 0.8320 - val_loss: 1.4742 - val_accuracy: 0.6960\n",
      "Epoch 39/100\n",
      "24/24 [==============================] - 0s 9ms/step - loss: 1.0749 - accuracy: 0.8453 - val_loss: 1.5222 - val_accuracy: 0.6600\n",
      "Epoch 40/100\n",
      "24/24 [==============================] - 0s 9ms/step - loss: 1.0786 - accuracy: 0.8360 - val_loss: 1.5801 - val_accuracy: 0.6560\n",
      "Epoch 41/100\n",
      "24/24 [==============================] - 0s 8ms/step - loss: 1.0633 - accuracy: 0.8480 - val_loss: 1.4782 - val_accuracy: 0.6680\n",
      "Epoch 42/100\n",
      "24/24 [==============================] - 0s 9ms/step - loss: 1.0341 - accuracy: 0.8440 - val_loss: 1.4105 - val_accuracy: 0.7000\n",
      "Epoch 43/100\n",
      "24/24 [==============================] - 0s 8ms/step - loss: 0.9976 - accuracy: 0.8840 - val_loss: 1.4943 - val_accuracy: 0.6800\n",
      "Epoch 44/100\n",
      "24/24 [==============================] - 0s 7ms/step - loss: 1.0503 - accuracy: 0.8440 - val_loss: 1.5823 - val_accuracy: 0.6480\n",
      "Epoch 45/100\n",
      "24/24 [==============================] - 0s 5ms/step - loss: 1.0412 - accuracy: 0.8587 - val_loss: 1.5134 - val_accuracy: 0.6520\n",
      "Epoch 46/100\n",
      "24/24 [==============================] - 0s 5ms/step - loss: 1.0165 - accuracy: 0.8613 - val_loss: 1.6774 - val_accuracy: 0.6440\n",
      "Epoch 47/100\n",
      "24/24 [==============================] - 0s 5ms/step - loss: 1.0217 - accuracy: 0.8613 - val_loss: 1.4126 - val_accuracy: 0.6960\n",
      "Epoch 48/100\n",
      "24/24 [==============================] - 0s 6ms/step - loss: 0.9738 - accuracy: 0.8853 - val_loss: 1.4937 - val_accuracy: 0.6880\n",
      "Epoch 49/100\n",
      "24/24 [==============================] - 0s 5ms/step - loss: 0.9704 - accuracy: 0.8933 - val_loss: 1.5378 - val_accuracy: 0.6520\n",
      "Epoch 50/100\n",
      "24/24 [==============================] - 0s 7ms/step - loss: 0.9645 - accuracy: 0.8800 - val_loss: 1.5416 - val_accuracy: 0.6680\n",
      "Epoch 51/100\n",
      "24/24 [==============================] - 0s 13ms/step - loss: 0.9636 - accuracy: 0.8720 - val_loss: 1.5055 - val_accuracy: 0.6800\n",
      "Epoch 52/100\n",
      "24/24 [==============================] - 0s 9ms/step - loss: 0.9526 - accuracy: 0.8880 - val_loss: 1.6999 - val_accuracy: 0.6440\n",
      "Epoch 53/100\n",
      "24/24 [==============================] - 0s 7ms/step - loss: 1.0722 - accuracy: 0.8373 - val_loss: 1.6476 - val_accuracy: 0.6360\n",
      "Epoch 54/100\n",
      "24/24 [==============================] - 0s 5ms/step - loss: 1.0128 - accuracy: 0.8533 - val_loss: 1.3754 - val_accuracy: 0.7080\n",
      "Epoch 55/100\n",
      "24/24 [==============================] - 0s 5ms/step - loss: 0.9341 - accuracy: 0.8787 - val_loss: 1.4462 - val_accuracy: 0.6960\n",
      "Epoch 56/100\n",
      "24/24 [==============================] - 0s 5ms/step - loss: 0.9360 - accuracy: 0.8867 - val_loss: 1.3918 - val_accuracy: 0.7000\n",
      "Epoch 57/100\n",
      "24/24 [==============================] - 0s 5ms/step - loss: 0.9575 - accuracy: 0.8747 - val_loss: 1.4904 - val_accuracy: 0.7080\n",
      "Epoch 58/100\n",
      "24/24 [==============================] - 0s 5ms/step - loss: 0.9600 - accuracy: 0.8720 - val_loss: 1.4413 - val_accuracy: 0.7040\n",
      "Epoch 59/100\n",
      "24/24 [==============================] - 0s 5ms/step - loss: 0.9136 - accuracy: 0.8907 - val_loss: 1.4526 - val_accuracy: 0.6960\n",
      "Epoch 60/100\n",
      "24/24 [==============================] - 0s 5ms/step - loss: 0.9478 - accuracy: 0.8800 - val_loss: 1.4249 - val_accuracy: 0.6680\n",
      "Epoch 61/100\n",
      "24/24 [==============================] - 0s 5ms/step - loss: 0.9581 - accuracy: 0.8773 - val_loss: 1.4979 - val_accuracy: 0.6560\n",
      "Epoch 62/100\n",
      "24/24 [==============================] - 0s 5ms/step - loss: 0.8865 - accuracy: 0.9147 - val_loss: 1.5860 - val_accuracy: 0.6600\n",
      "Epoch 63/100\n",
      "24/24 [==============================] - 0s 5ms/step - loss: 0.9474 - accuracy: 0.8587 - val_loss: 1.5943 - val_accuracy: 0.6720\n",
      "Epoch 64/100\n",
      "24/24 [==============================] - 0s 7ms/step - loss: 0.9700 - accuracy: 0.8747 - val_loss: 1.4591 - val_accuracy: 0.6960\n",
      "Epoch 65/100\n",
      "24/24 [==============================] - 0s 6ms/step - loss: 0.9375 - accuracy: 0.8773 - val_loss: 1.5058 - val_accuracy: 0.6600\n",
      "Epoch 66/100\n",
      "24/24 [==============================] - 0s 5ms/step - loss: 0.9121 - accuracy: 0.8853 - val_loss: 1.4200 - val_accuracy: 0.6960\n",
      "Epoch 67/100\n",
      "24/24 [==============================] - 0s 5ms/step - loss: 0.9033 - accuracy: 0.9053 - val_loss: 1.4345 - val_accuracy: 0.6920\n",
      "Epoch 68/100\n",
      "24/24 [==============================] - 0s 6ms/step - loss: 0.8621 - accuracy: 0.9200 - val_loss: 1.3837 - val_accuracy: 0.6880\n",
      "Epoch 69/100\n",
      "24/24 [==============================] - 0s 6ms/step - loss: 0.8619 - accuracy: 0.9107 - val_loss: 1.4938 - val_accuracy: 0.7120\n",
      "Epoch 70/100\n",
      "24/24 [==============================] - 0s 6ms/step - loss: 0.8560 - accuracy: 0.9147 - val_loss: 1.4850 - val_accuracy: 0.6800\n",
      "Epoch 71/100\n",
      "24/24 [==============================] - 0s 7ms/step - loss: 0.8361 - accuracy: 0.9213 - val_loss: 1.3794 - val_accuracy: 0.7200\n",
      "Epoch 72/100\n",
      "24/24 [==============================] - 0s 6ms/step - loss: 0.8673 - accuracy: 0.8933 - val_loss: 1.4396 - val_accuracy: 0.6840\n",
      "Epoch 73/100\n",
      "24/24 [==============================] - 0s 5ms/step - loss: 0.8585 - accuracy: 0.9027 - val_loss: 1.5192 - val_accuracy: 0.6680\n",
      "Epoch 74/100\n",
      "24/24 [==============================] - 0s 6ms/step - loss: 0.8850 - accuracy: 0.8973 - val_loss: 1.5132 - val_accuracy: 0.6720\n",
      "Epoch 75/100\n",
      "24/24 [==============================] - 0s 5ms/step - loss: 0.8770 - accuracy: 0.9040 - val_loss: 1.3704 - val_accuracy: 0.7000\n",
      "Epoch 76/100\n",
      "24/24 [==============================] - 0s 5ms/step - loss: 0.8637 - accuracy: 0.9040 - val_loss: 1.4399 - val_accuracy: 0.7080\n",
      "Epoch 77/100\n",
      "24/24 [==============================] - 0s 6ms/step - loss: 0.8726 - accuracy: 0.8933 - val_loss: 1.5562 - val_accuracy: 0.6680\n",
      "Epoch 78/100\n",
      "24/24 [==============================] - 0s 6ms/step - loss: 0.9007 - accuracy: 0.8720 - val_loss: 1.5110 - val_accuracy: 0.6920\n",
      "Epoch 79/100\n",
      "24/24 [==============================] - 0s 5ms/step - loss: 0.8999 - accuracy: 0.8827 - val_loss: 1.5065 - val_accuracy: 0.6720\n",
      "Epoch 80/100\n",
      "24/24 [==============================] - 0s 6ms/step - loss: 0.8509 - accuracy: 0.9080 - val_loss: 1.4434 - val_accuracy: 0.7080\n",
      "Epoch 81/100\n",
      "24/24 [==============================] - 0s 6ms/step - loss: 0.8375 - accuracy: 0.9080 - val_loss: 1.4227 - val_accuracy: 0.7200\n",
      "Epoch 82/100\n",
      "24/24 [==============================] - 0s 5ms/step - loss: 0.8372 - accuracy: 0.9107 - val_loss: 1.4094 - val_accuracy: 0.6840\n",
      "Epoch 83/100\n",
      "24/24 [==============================] - 0s 5ms/step - loss: 0.8662 - accuracy: 0.9027 - val_loss: 1.4559 - val_accuracy: 0.7120\n",
      "Epoch 84/100\n",
      "24/24 [==============================] - 0s 9ms/step - loss: 0.8821 - accuracy: 0.8880 - val_loss: 1.4771 - val_accuracy: 0.6680\n",
      "Epoch 85/100\n",
      "24/24 [==============================] - 0s 6ms/step - loss: 0.8738 - accuracy: 0.8853 - val_loss: 1.4613 - val_accuracy: 0.6680\n",
      "Epoch 86/100\n",
      "24/24 [==============================] - 0s 5ms/step - loss: 0.8420 - accuracy: 0.9120 - val_loss: 1.4028 - val_accuracy: 0.6920\n",
      "Epoch 87/100\n",
      "24/24 [==============================] - 0s 5ms/step - loss: 0.8232 - accuracy: 0.9213 - val_loss: 1.4559 - val_accuracy: 0.6960\n",
      "Epoch 88/100\n",
      "24/24 [==============================] - 0s 5ms/step - loss: 0.8060 - accuracy: 0.9173 - val_loss: 1.3614 - val_accuracy: 0.7080\n",
      "Epoch 89/100\n",
      "24/24 [==============================] - 0s 5ms/step - loss: 0.8142 - accuracy: 0.9200 - val_loss: 1.4746 - val_accuracy: 0.6960\n",
      "Epoch 90/100\n",
      "24/24 [==============================] - 0s 5ms/step - loss: 0.7892 - accuracy: 0.9307 - val_loss: 1.5494 - val_accuracy: 0.6560\n",
      "Epoch 91/100\n",
      "24/24 [==============================] - 0s 6ms/step - loss: 0.7879 - accuracy: 0.9293 - val_loss: 1.4335 - val_accuracy: 0.6880\n",
      "Epoch 92/100\n",
      "24/24 [==============================] - 0s 5ms/step - loss: 0.8104 - accuracy: 0.9173 - val_loss: 1.4117 - val_accuracy: 0.6920\n",
      "Epoch 93/100\n",
      "24/24 [==============================] - 0s 8ms/step - loss: 0.8365 - accuracy: 0.9093 - val_loss: 1.5144 - val_accuracy: 0.7120\n",
      "Epoch 94/100\n",
      "24/24 [==============================] - 0s 5ms/step - loss: 0.8292 - accuracy: 0.9120 - val_loss: 1.5041 - val_accuracy: 0.6640\n",
      "Epoch 95/100\n",
      "24/24 [==============================] - 0s 5ms/step - loss: 0.8450 - accuracy: 0.9013 - val_loss: 1.4381 - val_accuracy: 0.6960\n",
      "Epoch 96/100\n",
      "24/24 [==============================] - 0s 5ms/step - loss: 0.7862 - accuracy: 0.9253 - val_loss: 1.4476 - val_accuracy: 0.7000\n",
      "Epoch 97/100\n",
      "24/24 [==============================] - 0s 5ms/step - loss: 0.7850 - accuracy: 0.9307 - val_loss: 1.3979 - val_accuracy: 0.6840\n",
      "Epoch 98/100\n",
      "24/24 [==============================] - 0s 7ms/step - loss: 0.7679 - accuracy: 0.9400 - val_loss: 1.3754 - val_accuracy: 0.6960\n",
      "Epoch 99/100\n",
      "24/24 [==============================] - 0s 6ms/step - loss: 0.8051 - accuracy: 0.9187 - val_loss: 1.5180 - val_accuracy: 0.6640\n",
      "Epoch 100/100\n",
      "24/24 [==============================] - 0s 5ms/step - loss: 0.7538 - accuracy: 0.9347 - val_loss: 1.4533 - val_accuracy: 0.7040\n"
     ]
    }
   ],
   "source": [
    "#fit model\n",
    "res = model.fit(Z_train, y_train,\n",
    "                epochs = 100,\n",
    "                batch_size = 32,\n",
    "                validation_data = (Z_test, y_test))"
   ]
  },
  {
   "cell_type": "code",
   "execution_count": 7,
   "id": "gcxJEa2M97Yf",
   "metadata": {
    "colab": {
     "base_uri": "https://localhost:8080/"
    },
    "id": "gcxJEa2M97Yf",
    "outputId": "54e6eb5d-35ad-4f52-be1c-122adcd175fd"
   },
   "outputs": [
    {
     "data": {
      "text/plain": [
       "(0.93, 0.7)"
      ]
     },
     "execution_count": 7,
     "metadata": {},
     "output_type": "execute_result"
    }
   ],
   "source": [
    "#print training and testing accuracy\n",
    "round(res.history['accuracy'][-1],2), round(res.history['val_accuracy'][-1],2)"
   ]
  },
  {
   "cell_type": "markdown",
   "id": "zzJAWMHc3usT",
   "metadata": {
    "id": "zzJAWMHc3usT"
   },
   "source": [
    "Model is quite overfit. It performs at the same accuracy level as the people in the GTZAN study. "
   ]
  },
  {
   "cell_type": "code",
   "execution_count": 8,
   "id": "qbjU4wzn390I",
   "metadata": {
    "colab": {
     "base_uri": "https://localhost:8080/",
     "height": 545
    },
    "id": "qbjU4wzn390I",
    "outputId": "1b220fdf-1729-404b-9ef5-b694f699109e"
   },
   "outputs": [
    {
     "data": {
      "image/png": "[encoded data removed]",
      "text/plain": [
       "<Figure size 1200x600 with 2 Axes>"
      ]
     },
     "metadata": {},
     "output_type": "display_data"
    }
   ],
   "source": [
    "#display loss and accuracy \n",
    "fig, ax = plt.subplots(1, 2,figsize = (12,6))\n",
    "\n",
    "train_loss = res.history['loss']\n",
    "test_loss = res.history['val_loss']\n",
    "\n",
    "train_acc = res.history['accuracy']\n",
    "test_acc = res.history['val_accuracy']\n",
    "\n",
    "ax[0].plot(train_loss, label='Training Loss')\n",
    "ax[0].plot(test_loss, label='Testing Loss')\n",
    "ax[0].set_title('Train & Test Loss', fontweight='bold', fontsize=13)\n",
    "\n",
    "ax[1].plot(train_acc, label='Training Accuracy',color = \"red\")\n",
    "ax[1].plot(test_acc, label='Testing Accuracy', color = 'green')\n",
    "ax[1].set_title('Train & Test Accuracy', fontweight='bold', fontsize=13)\n",
    "\n",
    "ax[0].legend()\n",
    "ax[1].legend();"
   ]
  },
  {
   "cell_type": "code",
   "execution_count": 80,
   "id": "J89SekMoqof8",
   "metadata": {
    "colab": {
     "base_uri": "https://localhost:8080/",
     "height": 512
    },
    "id": "J89SekMoqof8",
    "outputId": "7e620c47-d9fe-441f-8c12-0f41595f3993"
   },
   "outputs": [
    {
     "name": "stdout",
     "output_type": "stream",
     "text": [
      "8/8 [==============================] - 0s 4ms/step\n"
     ]
    },
    {
     "data": {
      "image/png": "[encoded data removed]",
      "text/plain": [
       "<Figure size 640x480 with 2 Axes>"
      ]
     },
     "metadata": {},
     "output_type": "display_data"
    }
   ],
   "source": [
    "#display confusion matrix\n",
    "cm = confusion_matrix(np.argmax(y_test, axis=1), np.argmax(model.predict(Z_test), axis = 1))\n",
    "c = ConfusionMatrixDisplay(confusion_matrix=cm, display_labels= [\"blues\",\"classical\",\"country\",\n",
    "                                                                                      \"disco\",\"hiphop\",\"jazz\",\n",
    "                                                                                      \"metal\",\"pop\",\"reggae\",\n",
    "                                                                                      \"rock\"])\n",
    "c.plot()\n",
    "plt.xticks(rotation = 90);"
   ]
  },
  {
   "cell_type": "markdown",
   "id": "uLe_htvJ4oVc",
   "metadata": {
    "id": "uLe_htvJ4oVc"
   },
   "source": [
    "This model has a number of issues not previously seen. Many Country songs are misclassified as Jazz and many Reggae songs are classfied as Hip-Hop. This is easily the worst performing model on the numerical data."
   ]
  },
  {
   "cell_type": "markdown",
   "id": "uZYCa9cyzf-D",
   "metadata": {
    "id": "uZYCa9cyzf-D"
   },
   "source": [
    "## Neural Network - CNN"
   ]
  },
  {
   "cell_type": "code",
   "execution_count": 14,
   "id": "uGwEoRVNqhhC",
   "metadata": {
    "colab": {
     "base_uri": "https://localhost:8080/"
    },
    "id": "uGwEoRVNqhhC",
    "outputId": "bc5d4465-2445-4e6b-9d47-653665144aa0"
   },
   "outputs": [
    {
     "name": "stdout",
     "output_type": "stream",
     "text": [
      "Found 1005 files belonging to 10 classes.\n",
      "Using 804 files for training.\n",
      "Using 201 files for validation.\n"
     ]
    }
   ],
   "source": [
    "#use mfccs images for model\n",
    "train_ds, validation_ds = image_dataset_from_directory(\n",
    "        '../images/mfccs', \n",
    "        image_size=(256,256),\n",
    "        batch_size=32,\n",
    "        seed=42,\n",
    "        validation_split=0.2,\n",
    "        subset='both',\n",
    "        label_mode='categorical'\n",
    ")\n"
   ]
  },
  {
   "cell_type": "code",
   "execution_count": 27,
   "id": "u-yuJ7-NqmIc",
   "metadata": {
    "id": "u-yuJ7-NqmIc"
   },
   "outputs": [],
   "source": [
    "#set model layers\n",
    "model = Sequential()\n",
    "\n",
    "model.add(layers.Input(shape=(256,256,3)))\n",
    "model.add(layers.Rescaling(1./255))\n",
    "\n",
    "\n",
    "model.add(Conv2D(128,(3,3), activation = 'relu'))\n",
    "model.add(MaxPooling2D(pool_size=(2,2)))\n",
    "\n",
    "\n",
    "model.add(Conv2D(128,(3,3), activation = 'relu'))\n",
    "model.add(MaxPooling2D(pool_size=(2,2)))\n",
    "\n",
    "model.add(Conv2D(128,(3,3), activation = 'relu'))\n",
    "model.add(MaxPooling2D(pool_size=(2,2)))\n",
    "\n",
    "model.add(Conv2D(128,(3,3), activation = 'relu'))\n",
    "model.add(MaxPooling2D(pool_size=(2,2)))\n",
    "\n",
    "model.add(Flatten())\n",
    "model.add(Dense(128,activation = 'relu'))\n",
    "\n",
    "# Output\n",
    "model.add(Dense(10,activation='softmax'))"
   ]
  },
  {
   "cell_type": "code",
   "execution_count": 28,
   "id": "2xpf_285qmPN",
   "metadata": {
    "id": "2xpf_285qmPN"
   },
   "outputs": [],
   "source": [
    "#compile model\n",
    "model.compile(\n",
    "        optimizer='adam',\n",
    "        loss ='categorical_crossentropy',\n",
    "        metrics=['accuracy'])"
   ]
  },
  {
   "cell_type": "code",
   "execution_count": 29,
   "id": "0-n24rLHzh2_",
   "metadata": {
    "colab": {
     "base_uri": "https://localhost:8080/"
    },
    "id": "0-n24rLHzh2_",
    "outputId": "e6209e99-fbdb-448e-c13d-f3bb0b57ebbd"
   },
   "outputs": [
    {
     "name": "stdout",
     "output_type": "stream",
     "text": [
      "Model: \"sequential_5\"\n",
      "_________________________________________________________________\n",
      " Layer (type)                Output Shape              Param #   \n",
      "=================================================================\n",
      " rescaling_3 (Rescaling)     (None, 256, 256, 3)       0         \n",
      "                                                                 \n",
      " conv2d_4 (Conv2D)           (None, 254, 254, 128)     3584      \n",
      "                                                                 \n",
      " max_pooling2d_4 (MaxPooling  (None, 127, 127, 128)    0         \n",
      " 2D)                                                             \n",
      "                                                                 \n",
      " conv2d_5 (Conv2D)           (None, 125, 125, 128)     147584    \n",
      "                                                                 \n",
      " max_pooling2d_5 (MaxPooling  (None, 62, 62, 128)      0         \n",
      " 2D)                                                             \n",
      "                                                                 \n",
      " conv2d_6 (Conv2D)           (None, 60, 60, 128)       147584    \n",
      "                                                                 \n",
      " max_pooling2d_6 (MaxPooling  (None, 30, 30, 128)      0         \n",
      " 2D)                                                             \n",
      "                                                                 \n",
      " conv2d_7 (Conv2D)           (None, 28, 28, 128)       147584    \n",
      "                                                                 \n",
      " max_pooling2d_7 (MaxPooling  (None, 14, 14, 128)      0         \n",
      " 2D)                                                             \n",
      "                                                                 \n",
      " flatten_2 (Flatten)         (None, 25088)             0         \n",
      "                                                                 \n",
      " dense_9 (Dense)             (None, 128)               3211392   \n",
      "                                                                 \n",
      " dense_10 (Dense)            (None, 10)                1290      \n",
      "                                                                 \n",
      "=================================================================\n",
      "Total params: 3,659,018\n",
      "Trainable params: 3,659,018\n",
      "Non-trainable params: 0\n",
      "_________________________________________________________________\n"
     ]
    }
   ],
   "source": [
    "#examine parameters\n",
    "model.summary()"
   ]
  },
  {
   "cell_type": "code",
   "execution_count": 30,
   "id": "uF-qpG0Y8sfD",
   "metadata": {
    "colab": {
     "base_uri": "https://localhost:8080/"
    },
    "id": "uF-qpG0Y8sfD",
    "outputId": "013af424-c8d3-4845-e411-96b7056ca014",
    "scrolled": true,
    "tags": []
   },
   "outputs": [
    {
     "name": "stdout",
     "output_type": "stream",
     "text": [
      "Epoch 1/20\n",
      "26/26 [==============================] - 20s 417ms/step - loss: 2.3359 - accuracy: 0.1032 - val_loss: 2.3500 - val_accuracy: 0.0846\n",
      "Epoch 2/20\n",
      "26/26 [==============================] - 11s 350ms/step - loss: 2.2514 - accuracy: 0.1418 - val_loss: 2.2507 - val_accuracy: 0.1443\n",
      "Epoch 3/20\n",
      "26/26 [==============================] - 12s 346ms/step - loss: 2.1971 - accuracy: 0.1965 - val_loss: 2.2819 - val_accuracy: 0.1144\n",
      "Epoch 4/20\n",
      "26/26 [==============================] - 13s 355ms/step - loss: 2.1773 - accuracy: 0.1878 - val_loss: 2.2230 - val_accuracy: 0.1841\n",
      "Epoch 5/20\n",
      "26/26 [==============================] - 12s 310ms/step - loss: 2.1570 - accuracy: 0.2077 - val_loss: 2.2404 - val_accuracy: 0.1692\n",
      "Epoch 6/20\n",
      "26/26 [==============================] - 12s 398ms/step - loss: 2.1026 - accuracy: 0.2313 - val_loss: 2.1752 - val_accuracy: 0.1990\n",
      "Epoch 7/20\n",
      "26/26 [==============================] - 12s 349ms/step - loss: 2.0059 - accuracy: 0.2600 - val_loss: 2.1039 - val_accuracy: 0.2189\n",
      "Epoch 8/20\n",
      "26/26 [==============================] - 14s 454ms/step - loss: 1.8769 - accuracy: 0.2823 - val_loss: 1.9686 - val_accuracy: 0.2935\n",
      "Epoch 9/20\n",
      "26/26 [==============================] - 14s 455ms/step - loss: 1.8612 - accuracy: 0.3184 - val_loss: 1.8826 - val_accuracy: 0.3333\n",
      "Epoch 10/20\n",
      "26/26 [==============================] - 13s 382ms/step - loss: 1.8195 - accuracy: 0.3308 - val_loss: 1.8354 - val_accuracy: 0.3134\n",
      "Epoch 11/20\n",
      "26/26 [==============================] - 11s 361ms/step - loss: 1.7235 - accuracy: 0.3682 - val_loss: 1.8352 - val_accuracy: 0.3532\n",
      "Epoch 12/20\n",
      "26/26 [==============================] - 14s 455ms/step - loss: 1.7952 - accuracy: 0.3520 - val_loss: 1.7838 - val_accuracy: 0.3532\n",
      "Epoch 13/20\n",
      "26/26 [==============================] - 14s 473ms/step - loss: 1.7501 - accuracy: 0.3507 - val_loss: 1.8130 - val_accuracy: 0.3333\n",
      "Epoch 14/20\n",
      "26/26 [==============================] - 12s 368ms/step - loss: 1.6711 - accuracy: 0.4117 - val_loss: 1.7496 - val_accuracy: 0.3980\n",
      "Epoch 15/20\n",
      "26/26 [==============================] - 11s 332ms/step - loss: 1.5633 - accuracy: 0.4291 - val_loss: 1.6657 - val_accuracy: 0.3831\n",
      "Epoch 16/20\n",
      "26/26 [==============================] - 11s 311ms/step - loss: 1.4957 - accuracy: 0.4415 - val_loss: 1.5840 - val_accuracy: 0.4378\n",
      "Epoch 17/20\n",
      "26/26 [==============================] - 13s 382ms/step - loss: 1.4305 - accuracy: 0.4701 - val_loss: 1.5803 - val_accuracy: 0.4378\n",
      "Epoch 18/20\n",
      "26/26 [==============================] - 13s 412ms/step - loss: 1.4230 - accuracy: 0.4764 - val_loss: 1.4699 - val_accuracy: 0.4627\n",
      "Epoch 19/20\n",
      "26/26 [==============================] - 13s 405ms/step - loss: 1.3184 - accuracy: 0.5012 - val_loss: 1.5278 - val_accuracy: 0.4627\n",
      "Epoch 20/20\n",
      "26/26 [==============================] - 11s 343ms/step - loss: 1.3173 - accuracy: 0.4963 - val_loss: 1.5674 - val_accuracy: 0.4378\n"
     ]
    }
   ],
   "source": [
    "#fit and train model\n",
    "h = model.fit(train_ds,validation_data=validation_ds,epochs=20)"
   ]
  },
  {
   "cell_type": "markdown",
   "id": "88d44b18-f383-4225-8081-656e219b7c14",
   "metadata": {},
   "source": [
    "CNN Model performance was abyssmal. The dataset is very small which may be detrimental to the performance of the neural networks in general. Additionally, the image choice may not have been optimal. One strategy may be split the audio into smaller time chunks to create more training data for the neural networks. Another idea is to create a multi-input neural network that takes in a variety of image types. "
   ]
  }
 ],
 "metadata": {
  "accelerator": "GPU",
  "colab": {
   "gpuType": "T4",
   "provenance": []
  },
  "kernelspec": {
   "display_name": "Python 3 (ipykernel)",
   "language": "python",
   "name": "python3"
  },
  "language_info": {
   "codemirror_mode": {
    "name": "ipython",
    "version": 3
   },
   "file_extension": ".py",
   "mimetype": "text/x-python",
   "name": "python",
   "nbconvert_exporter": "python",
   "pygments_lexer": "ipython3",
   "version": "3.9.13"
  }
 },
 "nbformat": 4,
 "nbformat_minor": 5
}
